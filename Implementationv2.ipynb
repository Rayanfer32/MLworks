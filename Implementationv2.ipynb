{
  "nbformat": 4,
  "nbformat_minor": 0,
  "metadata": {
    "colab": {
      "name": "Implementationv2.ipynb",
      "provenance": [],
      "include_colab_link": true
    },
    "kernelspec": {
      "name": "python3",
      "display_name": "Python 3"
    },
    "accelerator": "GPU"
  },
  "cells": [
    {
      "cell_type": "markdown",
      "metadata": {
        "id": "view-in-github",
        "colab_type": "text"
      },
      "source": [
        "<a href=\"https://colab.research.google.com/github/Rayanfer32/MLworks/blob/master/Implementationv2.ipynb\" target=\"_parent\"><img src=\"https://colab.research.google.com/assets/colab-badge.svg\" alt=\"Open In Colab\"/></a>"
      ]
    },
    {
      "cell_type": "code",
      "metadata": {
        "id": "Zz0mRJ6uHp14",
        "colab_type": "code",
        "outputId": "67b3b150-3c44-429e-ab83-ff4a4c85c369",
        "colab": {
          "base_uri": "https://localhost:8080/",
          "height": 136
        }
      },
      "source": [
        " # load dataset\n",
        " !git clone https://github.com/Karrthikpn/BTC.git"
      ],
      "execution_count": 1,
      "outputs": [
        {
          "output_type": "stream",
          "text": [
            "Cloning into 'BTC'...\n",
            "remote: Enumerating objects: 493, done.\u001b[K\n",
            "remote: Counting objects:   0% (1/493)\u001b[K\rremote: Counting objects:   1% (5/493)\u001b[K\rremote: Counting objects:   2% (10/493)\u001b[K\rremote: Counting objects:   3% (15/493)\u001b[K\rremote: Counting objects:   4% (20/493)\u001b[K\rremote: Counting objects:   5% (25/493)\u001b[K\rremote: Counting objects:   6% (30/493)\u001b[K\rremote: Counting objects:   7% (35/493)\u001b[K\rremote: Counting objects:   8% (40/493)\u001b[K\rremote: Counting objects:   9% (45/493)\u001b[K\rremote: Counting objects:  10% (50/493)\u001b[K\rremote: Counting objects:  11% (55/493)\u001b[K\rremote: Counting objects:  12% (60/493)\u001b[K\rremote: Counting objects:  13% (65/493)\u001b[K\rremote: Counting objects:  14% (70/493)\u001b[K\rremote: Counting objects:  15% (74/493)\u001b[K\rremote: Counting objects:  16% (79/493)\u001b[K\rremote: Counting objects:  17% (84/493)\u001b[K\rremote: Counting objects:  18% (89/493)\u001b[K\rremote: Counting objects:  19% (94/493)\u001b[K\rremote: Counting objects:  20% (99/493)\u001b[K\rremote: Counting objects:  21% (104/493)\u001b[K\rremote: Counting objects:  22% (109/493)\u001b[K\rremote: Counting objects:  23% (114/493)\u001b[K\rremote: Counting objects:  24% (119/493)\u001b[K\rremote: Counting objects:  25% (124/493)\u001b[K\rremote: Counting objects:  26% (129/493)\u001b[K\rremote: Counting objects:  27% (134/493)\u001b[K\rremote: Counting objects:  28% (139/493)\u001b[K\rremote: Counting objects:  29% (143/493)\u001b[K\rremote: Counting objects:  30% (148/493)\u001b[K\rremote: Counting objects:  31% (153/493)\u001b[K\rremote: Counting objects:  32% (158/493)\u001b[K\rremote: Counting objects:  33% (163/493)\u001b[K\rremote: Counting objects:  34% (168/493)\u001b[K\rremote: Counting objects:  35% (173/493)\u001b[K\rremote: Counting objects:  36% (178/493)\u001b[K\rremote: Counting objects:  37% (183/493)\u001b[K\rremote: Counting objects:  38% (188/493)\u001b[K\rremote: Counting objects:  39% (193/493)\u001b[K\rremote: Counting objects:  40% (198/493)\u001b[K\rremote: Counting objects:  41% (203/493)\u001b[K\rremote: Counting objects:  42% (208/493)\u001b[K\rremote: Counting objects:  43% (212/493)\u001b[K\rremote: Counting objects:  44% (217/493)\u001b[K\rremote: Counting objects:  45% (222/493)\u001b[K\rremote: Counting objects:  46% (227/493)\u001b[K\rremote: Counting objects:  47% (232/493)\u001b[K\rremote: Counting objects:  48% (237/493)\u001b[K\rremote: Counting objects:  49% (242/493)\u001b[K\rremote: Counting objects:  50% (247/493)\u001b[K\rremote: Counting objects:  51% (252/493)\u001b[K\rremote: Counting objects:  52% (257/493)\u001b[K\rremote: Counting objects:  53% (262/493)\u001b[K\rremote: Counting objects:  54% (267/493)\u001b[K\rremote: Counting objects:  55% (272/493)\u001b[K\rremote: Counting objects:  56% (277/493)\u001b[K\rremote: Counting objects:  57% (282/493)\u001b[K\rremote: Counting objects:  58% (286/493)\u001b[K\rremote: Counting objects:  59% (291/493)\u001b[K\rremote: Counting objects:  60% (296/493)\u001b[K\rremote: Counting objects:  61% (301/493)\u001b[K\rremote: Counting objects:  62% (306/493)\u001b[K\rremote: Counting objects:  63% (311/493)\u001b[K\rremote: Counting objects:  64% (316/493)\u001b[K\rremote: Counting objects:  65% (321/493)\u001b[K\rremote: Counting objects:  66% (326/493)\u001b[K\rremote: Counting objects:  67% (331/493)\u001b[K\rremote: Counting objects:  68% (336/493)\u001b[K\rremote: Counting objects:  69% (341/493)\u001b[K\rremote: Counting objects:  70% (346/493)\u001b[K\rremote: Counting objects:  71% (351/493)\u001b[K\rremote: Counting objects:  72% (355/493)\u001b[K\rremote: Counting objects:  73% (360/493)\u001b[K\rremote: Counting objects:  74% (365/493)\u001b[K\rremote: Counting objects:  75% (370/493)\u001b[K\rremote: Counting objects:  76% (375/493)\u001b[K\rremote: Counting objects:  77% (380/493)\u001b[K\rremote: Counting objects:  78% (385/493)\u001b[K\rremote: Counting objects:  79% (390/493)\u001b[K\rremote: Counting objects:  80% (395/493)\u001b[K\rremote: Counting objects:  81% (400/493)\u001b[K\rremote: Counting objects:  82% (405/493)\u001b[K\rremote: Counting objects:  83% (410/493)\u001b[K\rremote: Counting objects:  84% (415/493)\u001b[K\rremote: Counting objects:  85% (420/493)\u001b[K\rremote: Counting objects:  86% (424/493)\u001b[K\rremote: Counting objects:  87% (429/493)\u001b[K\rremote: Counting objects:  88% (434/493)\u001b[K\rremote: Counting objects:  89% (439/493)\u001b[K\rremote: Counting objects:  90% (444/493)\u001b[K\rremote: Counting objects:  91% (449/493)\u001b[K\rremote: Counting objects:  92% (454/493)\u001b[K\rremote: Counting objects:  93% (459/493)\u001b[K\rremote: Counting objects:  94% (464/493)\u001b[K\rremote: Counting objects:  95% (469/493)\u001b[K\rremote: Counting objects:  96% (474/493)\u001b[K\rremote: Counting objects:  97% (479/493)\u001b[K\rremote: Counting objects:  98% (484/493)\u001b[K\rremote: Counting objects:  99% (489/493)\u001b[K\rremote: Counting objects: 100% (493/493)\u001b[K\rremote: Counting objects: 100% (493/493), done.\u001b[K\n",
            "remote: Compressing objects: 100% (454/454), done.\u001b[K\n",
            "remote: Total 735 (delta 39), reused 493 (delta 39), pack-reused 242\n",
            "Receiving objects: 100% (735/735), 64.87 MiB | 37.51 MiB/s, done.\n",
            "Resolving deltas: 100% (42/42), done.\n"
          ],
          "name": "stdout"
        }
      ]
    },
    {
      "cell_type": "code",
      "metadata": {
        "id": "cdqFMbV4H3RA",
        "colab_type": "code",
        "colab": {}
      },
      "source": [
        "#importing all required libraries for this project\n",
        "import os,gc,pathlib\n",
        "import pandas as pd \n",
        "from fastai import *\n",
        "from fastai.vision import *"
      ],
      "execution_count": 0,
      "outputs": []
    },
    {
      "cell_type": "markdown",
      "metadata": {
        "id": "iP2z44jKI0ym",
        "colab_type": "text"
      },
      "source": [
        "**Datapreprocessing**"
      ]
    },
    {
      "cell_type": "code",
      "metadata": {
        "id": "Hhxnufo8JT2_",
        "colab_type": "code",
        "colab": {}
      },
      "source": [
        "DIR='/content/BTC/brain_tumor_dataset/multiclass'"
      ],
      "execution_count": 0,
      "outputs": []
    },
    {
      "cell_type": "code",
      "metadata": {
        "id": "nnoF_xIaJTzv",
        "colab_type": "code",
        "colab": {}
      },
      "source": [
        "data=ImageDataBunch.from_folder(DIR, train=\".\", \n",
        "                                  valid_pct=0.2,\n",
        "                                  ds_tfms=get_transforms(flip_vert=True, max_warp=0),\n",
        "                                  size=224,bs=8, \n",
        "                                  num_workers=0).normalize(imagenet_stats)"
      ],
      "execution_count": 0,
      "outputs": []
    },
    {
      "cell_type": "code",
      "metadata": {
        "id": "W_a66DHrJTwG",
        "colab_type": "code",
        "colab": {}
      },
      "source": [
        "data.show_batch(rows=4,fig_size=(10,20))"
      ],
      "execution_count": 0,
      "outputs": []
    },
    {
      "cell_type": "code",
      "metadata": {
        "id": "XFUylVMaXUP4",
        "colab_type": "code",
        "colab": {}
      },
      "source": [
        "learn = cnn_learner(data, models.resnet18, metrics=accuracy)\n",
        "learn.fit_one_cycle(1,1e-2)"
      ],
      "execution_count": 0,
      "outputs": []
    },
    {
      "cell_type": "code",
      "metadata": {
        "id": "8juHOKdqNhpJ",
        "colab_type": "code",
        "colab": {}
      },
      "source": [
        "learn = cnn_learner(data, models.resnet18, metrics=accuracy)\n",
        "learn.fit(10)"
      ],
      "execution_count": 0,
      "outputs": []
    },
    {
      "cell_type": "code",
      "metadata": {
        "id": "cQSsAIVnvH-h",
        "colab_type": "code",
        "colab": {}
      },
      "source": [
        "learn.show_results(rows=3)"
      ],
      "execution_count": 0,
      "outputs": []
    },
    {
      "cell_type": "markdown",
      "metadata": {
        "id": "8bZ5ZY03JAZV",
        "colab_type": "text"
      },
      "source": [
        "Trin test and val data split"
      ]
    },
    {
      "cell_type": "markdown",
      "metadata": {
        "id": "80Bxa1VxI8Vj",
        "colab_type": "text"
      },
      "source": [
        "Model selectoin"
      ]
    },
    {
      "cell_type": "markdown",
      "metadata": {
        "id": "FSsNbcnTJF-W",
        "colab_type": "text"
      },
      "source": [
        "model evaluation"
      ]
    },
    {
      "cell_type": "markdown",
      "metadata": {
        "id": "m2rWll7pJJXt",
        "colab_type": "text"
      },
      "source": [
        "Model saving "
      ]
    },
    {
      "cell_type": "markdown",
      "metadata": {
        "id": "yJIEY2GiI_jT",
        "colab_type": "text"
      },
      "source": [
        "Testing saved model"
      ]
    },
    {
      "cell_type": "code",
      "metadata": {
        "id": "oDD7_jKkYv2A",
        "colab_type": "code",
        "colab": {}
      },
      "source": [
        "filename = '/content/BTC/brain_tumor_dataset/multiclass/Meningioma/170.JPG'\n",
        "img = open_image(filename)\n",
        "img"
      ],
      "execution_count": 0,
      "outputs": []
    },
    {
      "cell_type": "code",
      "metadata": {
        "id": "o-yYog94axLb",
        "colab_type": "code",
        "outputId": "da74c920-0f53-4d21-c4f9-cc0e1e2bc42b",
        "colab": {
          "base_uri": "https://localhost:8080/",
          "height": 35
        }
      },
      "source": [
        "pred = learn.predict(img)\n",
        "print(pred)"
      ],
      "execution_count": 0,
      "outputs": [
        {
          "output_type": "stream",
          "text": [
            "(Category Meningioma, tensor(1), tensor([1.7684e-03, 9.9823e-01, 4.3806e-06]))\n"
          ],
          "name": "stdout"
        }
      ]
    },
    {
      "cell_type": "code",
      "metadata": {
        "id": "0eJAZDDNfs6Q",
        "colab_type": "code",
        "colab": {}
      },
      "source": [
        ""
      ],
      "execution_count": 0,
      "outputs": []
    },
    {
      "cell_type": "code",
      "metadata": {
        "id": "zdEFa2_tfs23",
        "colab_type": "code",
        "colab": {}
      },
      "source": [
        ""
      ],
      "execution_count": 0,
      "outputs": []
    },
    {
      "cell_type": "code",
      "metadata": {
        "id": "G2t8QoHBfs0E",
        "colab_type": "code",
        "colab": {}
      },
      "source": [
        ""
      ],
      "execution_count": 0,
      "outputs": []
    },
    {
      "cell_type": "code",
      "metadata": {
        "id": "gxSgx_d4fsyQ",
        "colab_type": "code",
        "colab": {}
      },
      "source": [
        ""
      ],
      "execution_count": 0,
      "outputs": []
    },
    {
      "cell_type": "code",
      "metadata": {
        "id": "VSrEzX0Ofsv9",
        "colab_type": "code",
        "colab": {}
      },
      "source": [
        ""
      ],
      "execution_count": 0,
      "outputs": []
    },
    {
      "cell_type": "code",
      "metadata": {
        "id": "SDaMvd0YfstA",
        "colab_type": "code",
        "colab": {}
      },
      "source": [
        ""
      ],
      "execution_count": 0,
      "outputs": []
    },
    {
      "cell_type": "code",
      "metadata": {
        "id": "R9aDFAPHfsqj",
        "colab_type": "code",
        "colab": {}
      },
      "source": [
        "!pip install cvlib==0.2.2\n",
        "!pip install opencv-python==4.1.1.26\n",
        "!pip install tensorflow==1.14.0\n",
        "!pip install matplotlib==3.1.1\n",
        "!pip install Keras==2.2.5\n",
        "\n",
        "from platform import python_version\n",
        "import tensorflow\n",
        "import keras\n",
        "import cvlib as cv\n",
        "import cv2"
      ],
      "execution_count": 0,
      "outputs": []
    },
    {
      "cell_type": "code",
      "metadata": {
        "id": "MUUlk0Yofsnq",
        "colab_type": "code",
        "colab": {}
      },
      "source": [
        "import cv2\n",
        "from google.colab.patches import cv2_imshow\n",
        "import matplotlib.pyplot as plt\n",
        "import cvlib as cv\n",
        "from cvlib.object_detection import draw_bbox\n",
        "\n",
        "# Uncomment this to read image from local folder/directory\n",
        "#im1 = cv2.imread('/content/Screenshot from 2020-01-23 07-18-18.png')\n",
        "\n",
        "# Comment the above line to read image from local folder/directory and Uncomment the following two lines if you are reading imgae from a url\n",
        "from skimage import io\n",
        "im1 = io.imread('http://www.samacharnama.com/wp-content/uploads/2019/06/third-party-insurance..687.png')\n",
        "#im1=io.imread('https://external-content.duckduckgo.com/iu/?u=https%3A%2F%2Fd1u4oo4rb13yy8.cloudfront.net%2Farticle%2F87578-jxyilybgfi-1524127120.jpg&f=1&nofb=1')\n",
        "cv2_imshow(im1)\n",
        "#plt.show(None)"
      ],
      "execution_count": 0,
      "outputs": []
    },
    {
      "cell_type": "code",
      "metadata": {
        "id": "zwtrJyJ-fsbx",
        "colab_type": "code",
        "colab": {}
      },
      "source": [
        "bbox, label, conf = cv.detect_common_objects(im1)\n",
        "output_image = draw_bbox(im1, bbox, label, conf)\n",
        "cv2_imshow(output_image)\n",
        "print('Number of cars in the image is ' + str(label.count('car')))"
      ],
      "execution_count": 0,
      "outputs": []
    },
    {
      "cell_type": "code",
      "metadata": {
        "id": "VbCX7AkOibmf",
        "colab_type": "code",
        "colab": {}
      },
      "source": [
        ""
      ],
      "execution_count": 0,
      "outputs": []
    }
  ]
}