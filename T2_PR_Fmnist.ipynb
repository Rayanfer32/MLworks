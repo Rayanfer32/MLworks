{
  "nbformat": 4,
  "nbformat_minor": 0,
  "metadata": {
    "kernelspec": {
      "display_name": "Python 3",
      "language": "python",
      "name": "python3"
    },
    "language_info": {
      "codemirror_mode": {
        "name": "ipython",
        "version": 3
      },
      "file_extension": ".py",
      "mimetype": "text/x-python",
      "name": "python",
      "nbconvert_exporter": "python",
      "pygments_lexer": "ipython3",
      "version": "3.7.4"
    },
    "colab": {
      "name": "T2_PR_Fmnist.ipynb",
      "provenance": [],
      "collapsed_sections": [],
      "include_colab_link": true
    }
  },
  "cells": [
    {
      "cell_type": "markdown",
      "metadata": {
        "id": "view-in-github",
        "colab_type": "text"
      },
      "source": [
        "<a href=\"https://colab.research.google.com/github/Rayanfer32/MLworks/blob/master/T2_PR_Fmnist.ipynb\" target=\"_parent\"><img src=\"https://colab.research.google.com/assets/colab-badge.svg\" alt=\"Open In Colab\"/></a>"
      ]
    },
    {
      "cell_type": "markdown",
      "metadata": {
        "id": "najlU0Y74TDj",
        "colab_type": "text"
      },
      "source": [
        "\n",
        "**The task is to build an image classifier with Keras and Convolutional Neural Networks for the Fashion MNIST dataset. This data set includes 10 labels of different clothing types with 28 by 28 *grayscale* images. There is a training set of 60,000 images and 10,000 test images.**\n",
        "\n",
        "https://www.kaggle.com/zalando-research/fashionmnist\n",
        "\n",
        "    Label\tDescription\n",
        "    0\t    T-shirt/top\n",
        "    1\t    Trouser\n",
        "    2\t    Pullover\n",
        "    3\t    Dress\n",
        "    4\t    Coat\n",
        "    5\t    Sandal\n",
        "    6\t    Shirt\n",
        "    7\t    Sneaker\n",
        "    8\t    Bag\n",
        "    9\t    Ankle boot\n",
        "    \n",
        " "
      ]
    },
    {
      "cell_type": "code",
      "metadata": {
        "id": "9MHWcAg04t0_",
        "colab_type": "code",
        "colab": {}
      },
      "source": [
        "# set the tensorflow version to 2\n",
        "tensorflow_version 2.x"
      ],
      "execution_count": 0,
      "outputs": []
    },
    {
      "cell_type": "code",
      "metadata": {
        "id": "glqL96_p4uq3",
        "colab_type": "code",
        "outputId": "e371e718-466d-4924-d67e-a35dcabc4288",
        "colab": {
          "base_uri": "https://localhost:8080/",
          "height": 35
        }
      },
      "source": [
        "# import tensorflow and check for the version \n",
        "import tensorflow as tf\n",
        "tf.__version__"
      ],
      "execution_count": 8,
      "outputs": [
        {
          "output_type": "execute_result",
          "data": {
            "text/plain": [
              "'2.1.0-rc1'"
            ]
          },
          "metadata": {
            "tags": []
          },
          "execution_count": 8
        }
      ]
    },
    {
      "cell_type": "markdown",
      "metadata": {
        "id": "USQlbQ9v4TDr",
        "colab_type": "text"
      },
      "source": [
        "## The Data\n",
        "\n",
        "**TASK 1: Run the code below to download the dataset using Keras.**"
      ]
    },
    {
      "cell_type": "code",
      "metadata": {
        "id": "Pd7tK0vv4TDv",
        "colab_type": "code",
        "colab": {}
      },
      "source": [
        "#Load the fashion_mnist data set from tensorflow.keras.datasets\n",
        "from tensorflow.keras.datasets import fashion_mnist\n",
        "(X_train,y_train),(X_test ,y_test) = fashion_mnist.load_data()"
      ],
      "execution_count": 0,
      "outputs": []
    },
    {
      "cell_type": "markdown",
      "metadata": {
        "id": "THPejsaJ4TD_",
        "colab_type": "text"
      },
      "source": [
        "## Visualizing the Data\n",
        "\n",
        "**TASK 2: Use matplotlib to view an image from the data set. It can be any image from the data set.**"
      ]
    },
    {
      "cell_type": "code",
      "metadata": {
        "id": "WwoJco9M4TEB",
        "colab_type": "code",
        "colab": {}
      },
      "source": [
        "# import matplotlib and invoke inline \n",
        "import matplotlib.pyplot as plt\n",
        "%matplotlib inline"
      ],
      "execution_count": 0,
      "outputs": []
    },
    {
      "cell_type": "code",
      "metadata": {
        "id": "lPOI0kqo4TEQ",
        "colab_type": "code",
        "colab": {}
      },
      "source": [
        "#print the first sample in the training set\n",
        "X_train[0]"
      ],
      "execution_count": 0,
      "outputs": []
    },
    {
      "cell_type": "code",
      "metadata": {
        "id": "gxuzJVHo4TEc",
        "colab_type": "code",
        "colab": {
          "base_uri": "https://localhost:8080/",
          "height": 283
        },
        "outputId": "08c43288-ea44-48b5-c4ab-254c5f10e884"
      },
      "source": [
        "# Plot the first train image \n",
        "plt.imshow(X_train[0])"
      ],
      "execution_count": 25,
      "outputs": [
        {
          "output_type": "execute_result",
          "data": {
            "text/plain": [
              "<matplotlib.image.AxesImage at 0x7fab148d4860>"
            ]
          },
          "metadata": {
            "tags": []
          },
          "execution_count": 25
        },
        {
          "output_type": "display_data",
          "data": {
            "image/png": "[encoded data removed]",
            "text/plain": [
              "<Figure size 432x288 with 1 Axes>"
            ]
          },
          "metadata": {
            "tags": []
          }
        }
      ]
    },
    {
      "cell_type": "code",
      "metadata": {
        "id": "iBlKwQe74TEk",
        "colab_type": "code",
        "colab": {
          "base_uri": "https://localhost:8080/",
          "height": 35
        },
        "outputId": "1a30dc83-c6aa-42d3-fd82-eecb66ba338b"
      },
      "source": [
        "#Print the Lable of the first training image \n",
        "y_train[0]"
      ],
      "execution_count": 18,
      "outputs": [
        {
          "output_type": "execute_result",
          "data": {
            "text/plain": [
              "9"
            ]
          },
          "metadata": {
            "tags": []
          },
          "execution_count": 18
        }
      ]
    },
    {
      "cell_type": "markdown",
      "metadata": {
        "id": "qqMNaQUl4TEs",
        "colab_type": "text"
      },
      "source": [
        "## Preprocessing the Data\n",
        "\n",
        "**TASK 3: Normalize the X train and X test data by dividing by the max value of the image arrays.**"
      ]
    },
    {
      "cell_type": "code",
      "metadata": {
        "id": "gC6VeTF_4TEu",
        "colab_type": "code",
        "colab": {
          "base_uri": "https://localhost:8080/",
          "height": 35
        },
        "outputId": "b21e5b02-0cc0-49f3-c449-f9a388247d60"
      },
      "source": [
        "# Print the max value in the train-set\n",
        "X_train.max()"
      ],
      "execution_count": 26,
      "outputs": [
        {
          "output_type": "execute_result",
          "data": {
            "text/plain": [
              "255"
            ]
          },
          "metadata": {
            "tags": []
          },
          "execution_count": 26
        }
      ]
    },
    {
      "cell_type": "code",
      "metadata": {
        "id": "lM57kzCZ4TE1",
        "colab_type": "code",
        "colab": {}
      },
      "source": [
        "#Normalize the train-set\n",
        "if X_train.max() >= 255:\n",
        "  X_train = X_train/255"
      ],
      "execution_count": 0,
      "outputs": []
    },
    {
      "cell_type": "code",
      "metadata": {
        "id": "STrw7J7q4TFA",
        "colab_type": "code",
        "colab": {}
      },
      "source": [
        "# Normalize the test-set\n",
        "if X_test.max() >= 255:\n",
        "  X_test = X_test/255"
      ],
      "execution_count": 0,
      "outputs": []
    },
    {
      "cell_type": "markdown",
      "metadata": {
        "id": "wpL-nsSS4TFH",
        "colab_type": "text"
      },
      "source": [
        "**Task 4: Reshape the X arrays to include a 4 dimension of the single channel. Similar to what we did for the numbers MNIST data set.**"
      ]
    },
    {
      "cell_type": "code",
      "metadata": {
        "id": "SICR7CZb4TFJ",
        "colab_type": "code",
        "colab": {
          "base_uri": "https://localhost:8080/",
          "height": 35
        },
        "outputId": "f5db275a-97ae-4362-d235-51923149649d"
      },
      "source": [
        "# print the shape of the train-set\n",
        "X_train.shape"
      ],
      "execution_count": 29,
      "outputs": [
        {
          "output_type": "execute_result",
          "data": {
            "text/plain": [
              "(60000, 28, 28)"
            ]
          },
          "metadata": {
            "tags": []
          },
          "execution_count": 29
        }
      ]
    },
    {
      "cell_type": "code",
      "metadata": {
        "id": "KQ81oHDV4TFS",
        "colab_type": "code",
        "colab": {}
      },
      "source": [
        "#reshape the train set to include the channel information\n",
        "X_train = X_train.reshape(60000,28,28,1)"
      ],
      "execution_count": 0,
      "outputs": []
    },
    {
      "cell_type": "code",
      "metadata": {
        "id": "y1I6L6wu4TFY",
        "colab_type": "code",
        "colab": {}
      },
      "source": [
        "#reshape the test-set to include the channel information\n",
        "X_test = X_test.reshape(10000,28,28,1)"
      ],
      "execution_count": 0,
      "outputs": []
    },
    {
      "cell_type": "markdown",
      "metadata": {
        "id": "-GGiIao24TFe",
        "colab_type": "text"
      },
      "source": [
        "**TASK 5: Convert the y_train and y_test values to be one-hot encoded for categorical analysis by Keras.**"
      ]
    },
    {
      "cell_type": "code",
      "metadata": {
        "id": "5iQMiVf24TFf",
        "colab_type": "code",
        "colab": {}
      },
      "source": [
        "# import to_categorical function from utils  of keras  in tensorflow \n",
        "from tensorflow.keras.utils import to_categorical\n"
      ],
      "execution_count": 0,
      "outputs": []
    },
    {
      "cell_type": "code",
      "metadata": {
        "id": "zU7gJv0K4TFl",
        "colab_type": "code",
        "colab": {}
      },
      "source": [
        "# Print the lables of the train-set\n"
      ],
      "execution_count": 0,
      "outputs": []
    },
    {
      "cell_type": "code",
      "metadata": {
        "id": "rpjHN7SL4TFs",
        "colab_type": "code",
        "colab": {}
      },
      "source": [
        "# convert the labeles of train-set  to categorical\n",
        "y_cat_train = to_categorical(y_train)"
      ],
      "execution_count": 0,
      "outputs": []
    },
    {
      "cell_type": "code",
      "metadata": {
        "id": "vDHPeP9u4TFx",
        "colab_type": "code",
        "colab": {}
      },
      "source": [
        "# convert the labeles of  test-set to categorical\n",
        "y_cat_test = to_categorical(y_test)"
      ],
      "execution_count": 0,
      "outputs": []
    },
    {
      "cell_type": "markdown",
      "metadata": {
        "id": "9NoBWIza4TF4",
        "colab_type": "text"
      },
      "source": [
        "## Building the Model\n",
        "\n",
        "**TASK 5: Use Keras to create a model consisting of at least the following layers (but feel free to experiment):**\n",
        "\n",
        "* 2D Convolutional Layer, filters=32 and kernel_size=(4,4)\n",
        "* Pooling Layer where pool_size = (2,2)\n",
        "\n",
        "* Flatten Layer\n",
        "* Dense Layer (128 Neurons, but feel free to play around with this value), RELU activation\n",
        "\n",
        "* Final Dense Layer of 10 Neurons with a softmax activation\n",
        "\n",
        "**Then compile the model with these parameters: loss='categorical_crossentropy', optimizer='rmsprop', metrics=['accuracy']**"
      ]
    },
    {
      "cell_type": "code",
      "metadata": {
        "id": "JLgknZxD4TF7",
        "colab_type": "code",
        "colab": {}
      },
      "source": [
        "# Import the model and layers required from keras library Sequential, Conv2D - MaxPool2D - Dense - Flatten\n",
        "from tensorflow.keras.models import Sequential\n",
        "\n",
        "from tensorflow.keras.layers import Dense\n",
        "from tensorflow.keras.layers import Dropout\n",
        "from tensorflow.keras.layers import Flatten\n",
        "from tensorflow.keras.layers import Conv2D\n",
        "from tensorflow.keras.layers import MaxPooling2D"
      ],
      "execution_count": 0,
      "outputs": []
    },
    {
      "cell_type": "code",
      "metadata": {
        "id": "W-goNmsg4TGB",
        "colab_type": "code",
        "colab": {}
      },
      "source": [
        "# Create the model object from sequencial\n",
        "model = Sequential()\n",
        "\n",
        "## Add Layers to the model \n",
        "# CONVOLUTIONAL LAYER  with filters=32,  kernel_size=(4,4), input_shape=(28, 28, 1), activation='relu'\n",
        "model.add(Conv2D(filters=32,input_shape=(28,28,1),kernel_size=(4,4),activation='relu'))\n",
        "\n",
        "# POOLING LAYER with pool_size=(2, 2)\n",
        "model.add(MaxPooling2D(pool_size=(2,2)))\n",
        "\n",
        "# FLATTEN IMAGES FROM 28 by 28 to 764 BEFORE FINAL LAYER\n",
        "model.add(Flatten())\n",
        "\n",
        "# 128 NEURONS IN DENSE HIDDEN LAYER (YOU CAN CHANGE THIS NUMBER OF NEURONS)\n",
        "# with activation='relu'\n",
        "model.add(Dense(128,activation='relu'))\n",
        "\n",
        "# Dense layer LAST LAYER  IS THE CLASSIFIER, THUS 10 POSSIBLE CLASSES \n",
        "# activation='softmax'\n",
        "model.add(Dense(10,activation='softmax'))\n",
        "\n",
        "# compile or build the model with appropriate loss, optimizer, and metrics  parameters set \n",
        "model.compile(loss =\"categorical_crossentropy\",optimizer=\"adam\",metrics=['accuracy'] )"
      ],
      "execution_count": 0,
      "outputs": []
    },
    {
      "cell_type": "code",
      "metadata": {
        "id": "BeMcdQjl4TGI",
        "colab_type": "code",
        "colab": {}
      },
      "source": [
        "# Display the summary of the model built \n"
      ],
      "execution_count": 0,
      "outputs": []
    },
    {
      "cell_type": "markdown",
      "metadata": {
        "id": "wEFP__dY4TGV",
        "colab_type": "text"
      },
      "source": [
        "### Training the Model\n",
        "**TASK 6: Train/Fit the model to the x_train set. Amount of epochs is up to you.**"
      ]
    },
    {
      "cell_type": "code",
      "metadata": {
        "id": "p_P5HzsQ4TGY",
        "colab_type": "code",
        "colab": {}
      },
      "source": [
        "# Train or fit  the modle for a certain epoch using the training data and lables\n",
        "model.fit(X_train, y_cat_train, epochs=10)"
      ],
      "execution_count": 0,
      "outputs": []
    },
    {
      "cell_type": "markdown",
      "metadata": {
        "id": "qLAcJDfz4TGi",
        "colab_type": "text"
      },
      "source": [
        "### Evaluating the Model\n",
        "\n",
        "**TASK 7: Show the accuracy,precision,recall,f1-score the model achieved on the x_test data set. Keep in mind, there are quite a few ways to do this, but we recommend following the same procedure we showed in the MNIST lecture.**"
      ]
    },
    {
      "cell_type": "code",
      "metadata": {
        "id": "PJ_F_wue4TGi",
        "colab_type": "code",
        "colab": {}
      },
      "source": [
        "# display the model metrics \n",
        "model metrics"
      ],
      "execution_count": 0,
      "outputs": []
    },
    {
      "cell_type": "code",
      "metadata": {
        "id": "J5M6-QzV4TGn",
        "colab_type": "code",
        "colab": {}
      },
      "source": [
        "# Evaluate the model on the test-set\n",
        "pred = model.predict()"
      ],
      "execution_count": 0,
      "outputs": []
    },
    {
      "cell_type": "code",
      "metadata": {
        "id": "wI1kX7wk4TGx",
        "colab_type": "code",
        "colab": {}
      },
      "source": [
        "# For further evaluation \n",
        "# Import the classification_report from sklearn metrics lib\n",
        "from sklearn.metrics import classification_report"
      ],
      "execution_count": 0,
      "outputs": []
    },
    {
      "cell_type": "code",
      "metadata": {
        "id": "b4t2f6QJ4TG0",
        "colab_type": "code",
        "colab": {}
      },
      "source": [
        "# Determine the class predections from the test-set\n",
        "print(classification_report(y_test,pred))"
      ],
      "execution_count": 0,
      "outputs": []
    },
    {
      "cell_type": "code",
      "metadata": {
        "id": "RlY3V5494TG4",
        "colab_type": "code",
        "outputId": "3a679df9-3da3-447f-dc17-c51868601eb7",
        "colab": {
          "base_uri": "https://localhost:8080/",
          "height": 35
        }
      },
      "source": [
        "# print the shape of catecorical test lables\n"
      ],
      "execution_count": 0,
      "outputs": [
        {
          "output_type": "stream",
          "text": [
            "(10000, 10)\n"
          ],
          "name": "stdout"
        }
      ]
    },
    {
      "cell_type": "code",
      "metadata": {
        "id": "IvVyLr3h4THA",
        "colab_type": "code",
        "outputId": "a73c56ce-f156-4792-c16e-0e4a9c499250",
        "colab": {
          "base_uri": "https://localhost:8080/",
          "height": 35
        }
      },
      "source": [
        "#print first categorical lable of test-set\n"
      ],
      "execution_count": 0,
      "outputs": [
        {
          "output_type": "execute_result",
          "data": {
            "text/plain": [
              "array([0., 0., 0., 0., 0., 0., 0., 0., 0., 1.], dtype=float32)"
            ]
          },
          "metadata": {
            "tags": []
          },
          "execution_count": 69
        }
      ]
    },
    {
      "cell_type": "code",
      "metadata": {
        "id": "_e0lK-Dx4THE",
        "colab_type": "code",
        "outputId": "b2e36e61-7afd-4212-b440-a551e38caf8a",
        "colab": {
          "base_uri": "https://localhost:8080/",
          "height": 35
        }
      },
      "source": [
        "#print the first predection   \n"
      ],
      "execution_count": 0,
      "outputs": [
        {
          "output_type": "execute_result",
          "data": {
            "text/plain": [
              "9"
            ]
          },
          "metadata": {
            "tags": []
          },
          "execution_count": 70
        }
      ]
    },
    {
      "cell_type": "code",
      "metadata": {
        "id": "c1H6NBTs4THK",
        "colab_type": "code",
        "outputId": "ff4a1290-11bc-4e80-a38e-70ca73e4d584",
        "colab": {
          "base_uri": "https://localhost:8080/",
          "height": 35
        }
      },
      "source": [
        "#print test-set labeles \n"
      ],
      "execution_count": 0,
      "outputs": [
        {
          "output_type": "execute_result",
          "data": {
            "text/plain": [
              "array([9, 2, 1, ..., 8, 1, 5], dtype=uint8)"
            ]
          },
          "metadata": {
            "tags": []
          },
          "execution_count": 71
        }
      ]
    },
    {
      "cell_type": "code",
      "metadata": {
        "scrolled": true,
        "id": "rUYtiwrV4THQ",
        "colab_type": "code",
        "colab": {}
      },
      "source": [
        "# print the classification report using the predicted valuse and labeles note not categorical but lables\n"
      ],
      "execution_count": 0,
      "outputs": []
    },
    {
      "cell_type": "markdown",
      "metadata": {
        "id": "JPwRVuCg4THT",
        "colab_type": "text"
      },
      "source": [
        "# Great Job!"
      ]
    }
  ]
}